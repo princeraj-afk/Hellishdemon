{
 "cells": [
  {
   "cell_type": "code",
   "execution_count": 1,
   "metadata": {},
   "outputs": [],
   "source": [
    "from sklearn.ensemble import RandomForestRegressor\n",
    "import pandas as pd\n",
    "from sklearn.model_selection import train_test_split\n",
    "from sklearn.metrics import mean_absolute_error"
   ]
  },
  {
   "cell_type": "code",
   "execution_count": 2,
   "metadata": {},
   "outputs": [],
   "source": [
    "#csv importing\n",
    "full_train = pd.read_csv('train.csv',index_col='Id')\n",
    "ultimate_test = pd.read_csv('test.csv',index_col='Id')\n",
    "features = ['LotArea', 'YearBuilt', '1stFlrSF', '2ndFlrSF', 'FullBath', 'BedroomAbvGr', 'TotRmsAbvGrd']\n",
    "ultimate_test = ultimate_test[features]"
   ]
  },
  {
   "cell_type": "code",
   "execution_count": 3,
   "metadata": {},
   "outputs": [],
   "source": [
    "X = full_train[features]\n",
    "y = full_train.SalePrice\n",
    "X_train,X_test,y_train,y_test = train_test_split(X,y,train_size=0.8,random_state=1)"
   ]
  },
  {
   "cell_type": "code",
   "execution_count": 4,
   "metadata": {},
   "outputs": [],
   "source": [
    "model_1 = RandomForestRegressor(n_estimators=50,random_state=1)\n",
    "model_2 = RandomForestRegressor(n_estimators=100,random_state=1)\n",
    "model_3 = RandomForestRegressor(n_estimators=100,criterion='mae',random_state=1)\n",
    "model_4 = RandomForestRegressor(n_estimators=200,min_samples_split=20,random_state=1)\n",
    "model_5 = RandomForestRegressor(n_estimators=100,max_depth=7,random_state=1)\n",
    "\n",
    "models = [model_1,model_2,model_3,model_4,model_5]"
   ]
  },
  {
   "cell_type": "code",
   "execution_count": 6,
   "metadata": {},
   "outputs": [
    {
     "name": "stdout",
     "output_type": "stream",
     "text": [
      "Model 1 MAE: 22298.817111872144\n",
      "Model 2 MAE: 22255.863997064578\n",
      "Model 3 MAE: 22145.417705479453\n",
      "Model 4 MAE: 22743.45497211735\n",
      "Model 5 MAE: 22376.826070000283\n"
     ]
    }
   ],
   "source": [
    " def score_model(model):\n",
    "    model.fit(X_train,y_train)\n",
    "    preds = model.predict(X_test)\n",
    "    return mean_absolute_error(preds,y_test)\n",
    "for i in range(len(models)):\n",
    "    print(\"Model\",i+1,\"MAE:\",score_model(models[i]))"
   ]
  },
  {
   "cell_type": "code",
   "execution_count": 7,
   "metadata": {},
   "outputs": [
    {
     "name": "stdout",
     "output_type": "stream",
     "text": [
      " My Model MAE: 22549.5083390411\n"
     ]
    }
   ],
   "source": [
    "my_model = RandomForestRegressor(random_state=1,n_estimators=100,criterion='mae',max_depth=7)\n",
    "print(\" My Model MAE:\",score_model(my_model))"
   ]
  },
  {
   "cell_type": "code",
   "execution_count": 10,
   "metadata": {},
   "outputs": [],
   "source": [
    "my_model.fit(X, y)\n",
    "\n",
    "preds_test = my_model.predict(ultimate_test)\n",
    "\n",
    "output = pd.DataFrame({'Id': ultimate_test.index,\n",
    "                       'SalePrice': preds_test})\n",
    "output.to_csv('submission.csv', index=False)"
   ]
  },
  {
   "cell_type": "code",
   "execution_count": null,
   "metadata": {},
   "outputs": [],
   "source": []
  }
 ],
 "metadata": {
  "kernelspec": {
   "display_name": "Python 3",
   "language": "python",
   "name": "python3"
  },
  "language_info": {
   "codemirror_mode": {
    "name": "ipython",
    "version": 3
   },
   "file_extension": ".py",
   "mimetype": "text/x-python",
   "name": "python",
   "nbconvert_exporter": "python",
   "pygments_lexer": "ipython3",
   "version": "3.9.0"
  }
 },
 "nbformat": 4,
 "nbformat_minor": 4
}
