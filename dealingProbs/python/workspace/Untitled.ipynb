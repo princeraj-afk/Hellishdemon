{
 "cells": [
  {
   "cell_type": "code",
   "execution_count": 2,
   "metadata": {},
   "outputs": [],
   "source": [
    "import re\n",
    "import pandas as pd\n",
    "import requests\n",
    "import time\n",
    "\n",
    "file = pd.read_csv('btop50.csv')"
   ]
  },
  {
   "cell_type": "code",
   "execution_count": 5,
   "metadata": {},
   "outputs": [
    {
     "name": "stdout",
     "output_type": "stream",
     "text": [
      "Khidki\n",
      "https://www.youtube.com/watch?v=FD1mZbdC56M\n",
      "1.2312915325164795\n",
      "Feelings\n",
      "https://www.youtube.com/watch?v=AZmAgoir1Tc\n",
      "2.0444164276123047\n",
      "Kandhe Ka Woh Til\n",
      "https://www.youtube.com/watch?v=S3O4S7tFrZQ\n",
      "1.7580845355987549\n",
      "Clash\n",
      "https://www.youtube.com/watch?v=KX06ksuS6Xo\n",
      "1.263547658920288\n",
      "Taare Ginn\n",
      "https://www.youtube.com/watch?v=HhWum37Mg8o\n",
      "22.272023916244507\n",
      "Cutiepie (From \"Ae Dil Hai Mushkil\")\n",
      "https://www.youtube.com/watch?v=mVxMqmeeLXc\n",
      "22.40866708755493\n",
      "Kuch Bhi Ho Jaye\n",
      "https://www.youtube.com/watch?v=OKuGTy7D52c\n",
      "1.3117151260375977\n"
     ]
    }
   ],
   "source": [
    "songs = []\n",
    "left = []\n",
    "for song in list(file['songs'])[35:42]:\n",
    "    time_out = time.process_time() + 3\n",
    "    url = \"https://www.youtube.com/results?search_query=\"+\"+\".join(song.split(\" \"))\n",
    "    while time.process_time() <= time_out:\n",
    "        a = time.time()\n",
    "        page = requests.get(url).text\n",
    "        r = re.search(\"videoId.{14}\",page)\n",
    "        songs.append(\"https://www.youtube.com/watch?v=\"+str(r)[-13:-2])\n",
    "        print(song)\n",
    "        print(songs[-1])\n",
    "        print(time.time()-a)\n",
    "        break\n",
    "    else:\n",
    "        left.append(url)"
   ]
  },
  {
   "cell_type": "code",
   "execution_count": 6,
   "metadata": {},
   "outputs": [],
   "source": [
    "with open(\"sng.txt\",\"a\") as s:\n",
    "    for i in songs:\n",
    "        s.write(i+\"\\n\")"
   ]
  },
  {
   "cell_type": "code",
   "execution_count": 7,
   "metadata": {},
   "outputs": [
    {
     "name": "stdout",
     "output_type": "stream",
     "text": [
      "Nakhre (Eyes on You 2)\n",
      "https://www.youtube.com/watch?v=mhV56U_eBok\n",
      "1.346219778060913\n",
      "Naiyyo\n",
      "https://www.youtube.com/watch?v=pzsbW80gnck\n",
      "1.4581243991851807\n",
      "Khulke Jeene Ka\n",
      "https://www.youtube.com/watch?v=PzmNssVLcLQ\n",
      "23.826743841171265\n",
      "Jaan Ban Gaye\n",
      "https://www.youtube.com/watch?v=a6cJAFFQn_I\n",
      "1.442429542541504\n",
      "Shayad - English Rendition\n",
      "https://www.youtube.com/watch?v=NiBlGxxD_lg\n",
      "1.0322809219360352\n",
      "Pachtaoge (Asees Kaur)\n",
      "https://www.youtube.com/watch?v=olLLDnTdGFg\n",
      "1.3468043804168701\n",
      "Bom Diggy\n",
      "https://www.youtube.com/watch?v=yIIGQB6EMAM\n",
      "2.43689227104187\n",
      "Mehrama (From \"Love Aaj Kal\")\n",
      "https://www.youtube.com/watch?v=HYUpNJJELeE\n",
      "2.427304744720459\n",
      "Diamond Da Challa\n",
      "https://www.youtube.com/watch?v=q8HIwkH4cm0\n",
      "4.5850279331207275\n"
     ]
    }
   ],
   "source": [
    "songs = []\n",
    "left = []\n",
    "for song in list(file['songs'])[42:]:\n",
    "    time_out = time.process_time() + 3\n",
    "    url = \"https://www.youtube.com/results?search_query=\"+\"+\".join(song.split(\" \"))\n",
    "    while time.process_time() <= time_out:\n",
    "        a = time.time()\n",
    "        page = requests.get(url).text\n",
    "        r = re.search(\"videoId.{14}\",page)\n",
    "        songs.append(\"https://www.youtube.com/watch?v=\"+str(r)[-13:-2])\n",
    "        print(song)\n",
    "        print(songs[-1])\n",
    "        print(time.time()-a)\n",
    "        break\n",
    "    else:\n",
    "        left.append(url)"
   ]
  },
  {
   "cell_type": "code",
   "execution_count": 8,
   "metadata": {},
   "outputs": [],
   "source": [
    "with open(\"sng.txt\",\"a\") as s:\n",
    "    for i in songs:\n",
    "        s.write(i+\"\\n\")"
   ]
  },
  {
   "cell_type": "code",
   "execution_count": null,
   "metadata": {},
   "outputs": [],
   "source": []
  }
 ],
 "metadata": {
  "kernelspec": {
   "display_name": "Python 3",
   "language": "python",
   "name": "python3"
  },
  "language_info": {
   "codemirror_mode": {
    "name": "ipython",
    "version": 3
   },
   "file_extension": ".py",
   "mimetype": "text/x-python",
   "name": "python",
   "nbconvert_exporter": "python",
   "pygments_lexer": "ipython3",
   "version": "3.9.0"
  }
 },
 "nbformat": 4,
 "nbformat_minor": 4
}
